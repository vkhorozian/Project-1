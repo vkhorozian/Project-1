{
 "cells": [
  {
   "cell_type": "code",
   "execution_count": 24,
   "id": "f6d723bd-322a-47a9-87cb-784d16e48f66",
   "metadata": {
    "tags": []
   },
   "outputs": [],
   "source": [
    "import pandas as pd\n",
    "import numpy as np\n",
    "import yfinance as yf\n",
    "import hvplot"
   ]
  },
  {
   "cell_type": "code",
   "execution_count": 42,
   "id": "a6b06aa5-1c8c-49bc-b6ed-39553c22fea6",
   "metadata": {},
   "outputs": [
    {
     "data": {
      "text/plain": [
       "datetime.date(2023, 4, 24)"
      ]
     },
     "execution_count": 42,
     "metadata": {},
     "output_type": "execute_result"
    }
   ],
   "source": [
    "# global variables \n",
    "trading_days_year = 252\n",
    "total_days_year = 365\n",
    "thirty_years_ago = (pd.Timestamp.today() - pd.Timedelta(days = total_days_year * 30)).date()\n",
    "yesterday = (pd.Timestamp.today() - pd.Timedelta(days = 1)).date()\n",
    "yesterday"
   ]
  },
  {
   "cell_type": "code",
   "execution_count": 54,
   "id": "e0e07b01-a1ca-4a39-9cc4-88a60ed5a41e",
   "metadata": {
    "tags": []
   },
   "outputs": [
    {
     "name": "stdout",
     "output_type": "stream",
     "text": [
      "[*********************100%***********************]  3 of 3 completed\n"
     ]
    },
    {
     "data": {
      "text/html": [
       "<div>\n",
       "<style scoped>\n",
       "    .dataframe tbody tr th:only-of-type {\n",
       "        vertical-align: middle;\n",
       "    }\n",
       "\n",
       "    .dataframe tbody tr th {\n",
       "        vertical-align: top;\n",
       "    }\n",
       "\n",
       "    .dataframe thead tr th {\n",
       "        text-align: left;\n",
       "    }\n",
       "\n",
       "    .dataframe thead tr:last-of-type th {\n",
       "        text-align: right;\n",
       "    }\n",
       "</style>\n",
       "<table border=\"1\" class=\"dataframe\">\n",
       "  <thead>\n",
       "    <tr>\n",
       "      <th></th>\n",
       "      <th colspan=\"3\" halign=\"left\">Close</th>\n",
       "      <th colspan=\"3\" halign=\"left\">Volume</th>\n",
       "    </tr>\n",
       "    <tr>\n",
       "      <th></th>\n",
       "      <th>AAPL</th>\n",
       "      <th>GOOG</th>\n",
       "      <th>MSFT</th>\n",
       "      <th>AAPL</th>\n",
       "      <th>GOOG</th>\n",
       "      <th>MSFT</th>\n",
       "    </tr>\n",
       "    <tr>\n",
       "      <th>Date</th>\n",
       "      <th></th>\n",
       "      <th></th>\n",
       "      <th></th>\n",
       "      <th></th>\n",
       "      <th></th>\n",
       "      <th></th>\n",
       "    </tr>\n",
       "  </thead>\n",
       "  <tbody>\n",
       "    <tr>\n",
       "      <th>2004-08-19</th>\n",
       "      <td>0.466747</td>\n",
       "      <td>2.499133</td>\n",
       "      <td>17.069757</td>\n",
       "      <td>388920000</td>\n",
       "      <td>897427216.0</td>\n",
       "      <td>46293000</td>\n",
       "    </tr>\n",
       "    <tr>\n",
       "      <th>2004-08-20</th>\n",
       "      <td>0.468115</td>\n",
       "      <td>2.697639</td>\n",
       "      <td>17.120106</td>\n",
       "      <td>316780800</td>\n",
       "      <td>458857488.0</td>\n",
       "      <td>46494800</td>\n",
       "    </tr>\n",
       "    <tr>\n",
       "      <th>2004-08-23</th>\n",
       "      <td>0.472371</td>\n",
       "      <td>2.724787</td>\n",
       "      <td>17.195869</td>\n",
       "      <td>254660000</td>\n",
       "      <td>366857939.0</td>\n",
       "      <td>39572200</td>\n",
       "    </tr>\n",
       "    <tr>\n",
       "      <th>2004-08-24</th>\n",
       "      <td>0.485594</td>\n",
       "      <td>2.611960</td>\n",
       "      <td>17.195869</td>\n",
       "      <td>374136000</td>\n",
       "      <td>306396159.0</td>\n",
       "      <td>40835300</td>\n",
       "    </tr>\n",
       "    <tr>\n",
       "      <th>2004-08-25</th>\n",
       "      <td>0.502312</td>\n",
       "      <td>2.640104</td>\n",
       "      <td>17.391552</td>\n",
       "      <td>505618400</td>\n",
       "      <td>184645512.0</td>\n",
       "      <td>53512700</td>\n",
       "    </tr>\n",
       "  </tbody>\n",
       "</table>\n",
       "</div>"
      ],
      "text/plain": [
       "               Close                          Volume                       \n",
       "                AAPL      GOOG       MSFT       AAPL         GOOG      MSFT\n",
       "Date                                                                       \n",
       "2004-08-19  0.466747  2.499133  17.069757  388920000  897427216.0  46293000\n",
       "2004-08-20  0.468115  2.697639  17.120106  316780800  458857488.0  46494800\n",
       "2004-08-23  0.472371  2.724787  17.195869  254660000  366857939.0  39572200\n",
       "2004-08-24  0.485594  2.611960  17.195869  374136000  306396159.0  40835300\n",
       "2004-08-25  0.502312  2.640104  17.391552  505618400  184645512.0  53512700"
      ]
     },
     "execution_count": 54,
     "metadata": {},
     "output_type": "execute_result"
    }
   ],
   "source": [
    "tickers = yf.Tickers('msft aapl goog')\n",
    "data = tickers.history(start=thirty_years_ago, end=yesterday)\n",
    "data = data[['Close', 'Volume']]\n",
    "data.dropna(inplace= True)\n",
    "data.head()"
   ]
  },
  {
   "cell_type": "code",
   "execution_count": null,
   "id": "1cf4fe47-1121-4bd5-9205-6b5a8340eea0",
   "metadata": {},
   "outputs": [],
   "source": []
  }
 ],
 "metadata": {
  "kernelspec": {
   "display_name": "Python 3 (ipykernel)",
   "language": "python",
   "name": "python3"
  },
  "language_info": {
   "codemirror_mode": {
    "name": "ipython",
    "version": 3
   },
   "file_extension": ".py",
   "mimetype": "text/x-python",
   "name": "python",
   "nbconvert_exporter": "python",
   "pygments_lexer": "ipython3",
   "version": "3.7.16"
  }
 },
 "nbformat": 4,
 "nbformat_minor": 5
}
